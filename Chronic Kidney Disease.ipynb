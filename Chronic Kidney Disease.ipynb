{
  "nbformat": 4,
  "nbformat_minor": 0,
  "metadata": {
    "colab": {
      "provenance": []
    },
    "kernelspec": {
      "name": "python3",
      "display_name": "Python 3"
    },
    "language_info": {
      "name": "python"
    }
  },
  "cells": [
    {
      "cell_type": "code",
      "execution_count": null,
      "metadata": {
        "id": "SQDkACOSXbSB"
      },
      "outputs": [],
      "source": [
        "import pandas as pd\n",
        "import numpy as np\n",
        "from collections import Counter as c\n",
        "import matplotlib.pyplot as plt\n",
        "import seaborn as sns\n",
        "import missingno as msno\n",
        "from sklearn.metrics import accuracy_score, confusion_matrix\n",
        "from sklearn.model_selection import train_test_split\n",
        "from sklearn.preprocessing import LabelEncoder\n",
        "from sklearn.linear_model import LogisticRegression\n",
        "import pickle\n",
        "from scipy import stats \n",
        "plt.style.use('fivethirtyeight') "
      ]
    },
    {
      "cell_type": "code",
      "source": [
        "data=pd.read_csv(\"/content/kidney_disease.csv\")\n",
        "data.head()"
      ],
      "metadata": {
        "id": "MBUHSTchXnlr"
      },
      "execution_count": null,
      "outputs": []
    },
    {
      "cell_type": "code",
      "source": [
        "data.columns"
      ],
      "metadata": {
        "colab": {
          "base_uri": "https://localhost:8080/"
        },
        "id": "NczZ1WC8Xve2",
        "outputId": "2179b37c-b9d9-4f2f-bb88-0c8fbd33c7dd"
      },
      "execution_count": null,
      "outputs": [
        {
          "output_type": "execute_result",
          "data": {
            "text/plain": [
              "Index(['id', 'age', 'blood_pressure', 'specific_gravity', 'albumin', 'sugar',\n",
              "       'red_blood_cells', 'pus_cell', 'pus_cell_clumps', 'bacteria',\n",
              "       'blood glucose random', 'blood_urea', 'serum_creatinine', 'sodium',\n",
              "       'potassium', 'hemoglobin', 'packed_cell_volume',\n",
              "       'white_blood_cell_count', 'red_blood_cell_count', 'hypertension',\n",
              "       'diabtesmelitus', 'coronary_artery_disease', 'appetite', 'pedal_edema',\n",
              "       'anemia', 'class'],\n",
              "      dtype='object')"
            ]
          },
          "metadata": {},
          "execution_count": 62
        }
      ]
    },
    {
      "cell_type": "code",
      "source": [
        "\"\"\"data.columns=['id','age','blood_pressure','specific_gravity','albumin',\n",
        "              'sugar','red_blood_cells','pus_cell','pus_cell_clumps','bacteria',\n",
        "              'blood glucose random','blood_urea','serum_creatinine','sodium','potassium',\n",
        "              'hemoglobin','packed_cell_volume','white_blood_cell_count','red_blood_cell_count',\n",
        "              'hypertension','diabtesmelitus','coronary_artery_disease','appetite',\n",
        "              'pedal_edema','anemia','class']\"\"\"\n",
        "#data.columns              "
      ],
      "metadata": {
        "id": "L3NeWEZSX7jH"
      },
      "execution_count": null,
      "outputs": []
    },
    {
      "cell_type": "code",
      "source": [
        "data.info()"
      ],
      "metadata": {
        "colab": {
          "base_uri": "https://localhost:8080/"
        },
        "id": "j_4O2p1pYAeP",
        "outputId": "098773da-5740-40f0-e96e-db98438fc625"
      },
      "execution_count": null,
      "outputs": [
        {
          "output_type": "stream",
          "name": "stdout",
          "text": [
            "<class 'pandas.core.frame.DataFrame'>\n",
            "RangeIndex: 400 entries, 0 to 399\n",
            "Data columns (total 26 columns):\n",
            " #   Column                   Non-Null Count  Dtype  \n",
            "---  ------                   --------------  -----  \n",
            " 0   id                       400 non-null    int64  \n",
            " 1   age                      391 non-null    float64\n",
            " 2   blood_pressure           400 non-null    float64\n",
            " 3   specific_gravity         353 non-null    float64\n",
            " 4   albumin                  354 non-null    float64\n",
            " 5   sugar                    351 non-null    float64\n",
            " 6   red_blood_cells          248 non-null    object \n",
            " 7   pus_cell                 335 non-null    object \n",
            " 8   pus_cell_clumps          396 non-null    object \n",
            " 9   bacteria                 396 non-null    object \n",
            " 10  blood glucose random     400 non-null    float64\n",
            " 11  blood_urea               400 non-null    float64\n",
            " 12  serum_creatinine         400 non-null    float64\n",
            " 13  sodium                   400 non-null    float64\n",
            " 14  potassium                400 non-null    float64\n",
            " 15  hemoglobin               400 non-null    float64\n",
            " 16  packed_cell_volume       330 non-null    object \n",
            " 17  white_blood_cell_count   295 non-null    object \n",
            " 18  red_blood_cell_count     270 non-null    object \n",
            " 19  hypertension             398 non-null    object \n",
            " 20  diabtesmelitus           398 non-null    object \n",
            " 21  coronary_artery_disease  398 non-null    object \n",
            " 22  appetite                 399 non-null    object \n",
            " 23  pedal_edema              399 non-null    object \n",
            " 24  anemia                   399 non-null    object \n",
            " 25  class                    400 non-null    object \n",
            "dtypes: float64(11), int64(1), object(14)\n",
            "memory usage: 81.4+ KB\n"
          ]
        }
      ]
    },
    {
      "cell_type": "code",
      "source": [
        "data.isnull().sum()"
      ],
      "metadata": {
        "colab": {
          "base_uri": "https://localhost:8080/"
        },
        "id": "Q_gHCkXPYFVy",
        "outputId": "2fc53424-2686-436a-efda-f29ca73712f0"
      },
      "execution_count": null,
      "outputs": [
        {
          "output_type": "execute_result",
          "data": {
            "text/plain": [
              "id                           0\n",
              "age                          9\n",
              "blood_pressure               0\n",
              "specific_gravity            47\n",
              "albumin                     46\n",
              "sugar                       49\n",
              "red_blood_cells            152\n",
              "pus_cell                    65\n",
              "pus_cell_clumps              4\n",
              "bacteria                     4\n",
              "blood glucose random         0\n",
              "blood_urea                   0\n",
              "serum_creatinine             0\n",
              "sodium                       0\n",
              "potassium                    0\n",
              "hemoglobin                   0\n",
              "packed_cell_volume          70\n",
              "white_blood_cell_count     105\n",
              "red_blood_cell_count       130\n",
              "hypertension                 2\n",
              "diabtesmelitus               2\n",
              "coronary_artery_disease      2\n",
              "appetite                     1\n",
              "pedal_edema                  1\n",
              "anemia                       1\n",
              "class                        0\n",
              "dtype: int64"
            ]
          },
          "metadata": {},
          "execution_count": 61
        }
      ]
    },
    {
      "cell_type": "code",
      "source": [
        "data['blood glucose random'].fillna(data['blood glucose random'].mean(),inplace=True)\n",
        "data['blood_pressure'].fillna(data['blood_pressure'].mean(),inplace=True)\n",
        "data['blood_urea'].fillna(data['blood_urea'].mean(),inplace=True)\n",
        "data['hemoglobin'].fillna(data['hemoglobin'].mean(),inplace=True)\n",
        "#data['packed_cell_volume'].fillna(data['packed_cell_volume'].median(),inplace=True)\n",
        "data['potassium'].fillna(data['potassium'].mean(),inplace=True)\n",
        "#data['red_blood_cell_count'].fillna(data['red_blood_cell_count'].mean(),inplace=True)\n",
        "data['serum_creatinine'].fillna(data['serum_creatinine'].mean(),inplace=True)\n",
        "data['sodium'].fillna(data['sodium'].mean(),inplace=True)\n",
        "#data['white_blood_cell_count'].fillna(data['white_blood_cell_count'].mean(),inplace=True)"
      ],
      "metadata": {
        "id": "kybPe8eGYLie"
      },
      "execution_count": null,
      "outputs": []
    },
    {
      "cell_type": "code",
      "source": [
        "data['age'].fillna(data['age'].mode()[0],inplace=True)\n",
        "#data['hypertention'].fillna(data['hypertention'].mode()[0],inplace=True)\n",
        "data['pus_cell_clumps'].fillna(data['pus_cell_clumps'].mode()[0],inplace=True)\n",
        "data['appetite'].fillna(data['appetite'].mode()[0],inplace=True)\n",
        "data['albumin'].fillna(data['albumin'].mode()[0],inplace=True)\n",
        "data['pus_cell'].fillna(data['pus_cell'].mode()[0],inplace=True)\n",
        "data['red_blood_cells'].fillna(data['red_blood_cells'].mode()[0],inplace=True)\n",
        "data['coronary_artery_disease'].fillna(data['coronary_artery_disease'].mode()[0],inplace=True)\n",
        "data['bacteria'].fillna(data['bacteria'].mode()[0],inplace=True)\n",
        "data['anemia'].fillna(data['anemia'].mode()[0],inplace=True)\n",
        "data['sugar'].fillna(data['sugar'].mode()[0],inplace=True)\n",
        "data['diabtesmelitus'].fillna(data['diabtesmelitus'].mode()[0],inplace=True)\n",
        "data['pedal_edema'].fillna(data['pedal_edema'].mode()[0],inplace=True)\n",
        "data['specific_gravity'].fillna(data['specific_gravity'].mode()[0],inplace=True)"
      ],
      "metadata": {
        "id": "iPbTAOa7YRLn"
      },
      "execution_count": null,
      "outputs": []
    },
    {
      "cell_type": "code",
      "source": [
        "data.isnull().sum()"
      ],
      "metadata": {
        "id": "PBbDhvI3N7ZW",
        "outputId": "a0f841b9-b954-46a1-8adc-a9c0d4a04d0d",
        "colab": {
          "base_uri": "https://localhost:8080/"
        }
      },
      "execution_count": null,
      "outputs": [
        {
          "output_type": "execute_result",
          "data": {
            "text/plain": [
              "id                           0\n",
              "age                          0\n",
              "blood_pressure               0\n",
              "specific_gravity             0\n",
              "albumin                      0\n",
              "sugar                        0\n",
              "red_blood_cells              0\n",
              "pus_cell                     0\n",
              "pus_cell_clumps              0\n",
              "bacteria                     0\n",
              "blood glucose random         0\n",
              "blood_urea                   0\n",
              "serum_creatinine             0\n",
              "sodium                       0\n",
              "potassium                    0\n",
              "hemoglobin                   0\n",
              "packed_cell_volume          70\n",
              "white_blood_cell_count     105\n",
              "red_blood_cell_count       130\n",
              "hypertension                 2\n",
              "diabtesmelitus               0\n",
              "coronary_artery_disease      0\n",
              "appetite                     0\n",
              "pedal_edema                  0\n",
              "anemia                       0\n",
              "class                        0\n",
              "dtype: int64"
            ]
          },
          "metadata": {},
          "execution_count": 70
        }
      ]
    },
    {
      "cell_type": "code",
      "source": [
        "data.info()"
      ],
      "metadata": {
        "id": "FDCmlyk1Z6J8",
        "outputId": "7d332b6d-6e56-44fb-c909-c5b24b429ad1",
        "colab": {
          "base_uri": "https://localhost:8080/"
        }
      },
      "execution_count": null,
      "outputs": [
        {
          "output_type": "stream",
          "name": "stdout",
          "text": [
            "<class 'pandas.core.frame.DataFrame'>\n",
            "RangeIndex: 400 entries, 0 to 399\n",
            "Data columns (total 26 columns):\n",
            " #   Column                   Non-Null Count  Dtype  \n",
            "---  ------                   --------------  -----  \n",
            " 0   id                       400 non-null    int64  \n",
            " 1   age                      400 non-null    float64\n",
            " 2   blood_pressure           400 non-null    float64\n",
            " 3   specific_gravity         400 non-null    float64\n",
            " 4   albumin                  400 non-null    float64\n",
            " 5   sugar                    400 non-null    float64\n",
            " 6   red_blood_cells          400 non-null    object \n",
            " 7   pus_cell                 400 non-null    object \n",
            " 8   pus_cell_clumps          400 non-null    object \n",
            " 9   bacteria                 400 non-null    object \n",
            " 10  blood glucose random     400 non-null    float64\n",
            " 11  blood_urea               400 non-null    float64\n",
            " 12  serum_creatinine         400 non-null    float64\n",
            " 13  sodium                   400 non-null    float64\n",
            " 14  potassium                400 non-null    float64\n",
            " 15  hemoglobin               400 non-null    float64\n",
            " 16  packed_cell_volume       330 non-null    object \n",
            " 17  white_blood_cell_count   295 non-null    object \n",
            " 18  red_blood_cell_count     270 non-null    object \n",
            " 19  hypertension             398 non-null    object \n",
            " 20  diabtesmelitus           400 non-null    object \n",
            " 21  coronary_artery_disease  400 non-null    object \n",
            " 22  appetite                 400 non-null    object \n",
            " 23  pedal_edema              400 non-null    object \n",
            " 24  anemia                   400 non-null    object \n",
            " 25  class                    400 non-null    object \n",
            "dtypes: float64(11), int64(1), object(14)\n",
            "memory usage: 81.4+ KB\n"
          ]
        }
      ]
    },
    {
      "cell_type": "code",
      "source": [
        "catcols=set(data.dtypes[data.dtypes =='0'].index.values)\n",
        "print(catcols)"
      ],
      "metadata": {
        "id": "FgN5f2NgjzlV",
        "outputId": "9e758902-ede3-46b5-f373-40fbb81c8317",
        "colab": {
          "base_uri": "https://localhost:8080/"
        }
      },
      "execution_count": null,
      "outputs": [
        {
          "output_type": "stream",
          "name": "stdout",
          "text": [
            "set()\n"
          ]
        }
      ]
    },
    {
      "cell_type": "code",
      "source": [
        "for i in catcols:\n",
        "  print(\"Columns:\",i)\n",
        "  print(c(data[i]))\n",
        "  print('*'*120+'\\n')"
      ],
      "metadata": {
        "id": "2n195WT-kuu6"
      },
      "execution_count": null,
      "outputs": []
    },
    {
      "cell_type": "code",
      "source": [
        "#catcols.remove('red_blood_cell_count')\n",
        "#catcols.remove('packed_cell_volume')\n",
        "#catcols.remove('white_blood_cell_count')\n",
        "print(catcols)"
      ],
      "metadata": {
        "id": "4-I4bm7lliKM",
        "outputId": "716cbfe2-298d-426a-9293-2f71cd3fc4a2",
        "colab": {
          "base_uri": "https://localhost:8080/"
        }
      },
      "execution_count": null,
      "outputs": [
        {
          "output_type": "stream",
          "name": "stdout",
          "text": [
            "set()\n"
          ]
        }
      ]
    },
    {
      "cell_type": "code",
      "source": [
        "catecols=['anemia','pedal_edema','appetite','bacteria','class','coronary_artery_disease','diabeteselitus','hypertension','pus_cell','pus_cell_clumps','red_blood_cells']"
      ],
      "metadata": {
        "id": "weXAeKK2pDo4"
      },
      "execution_count": null,
      "outputs": []
    },
    {
      "cell_type": "code",
      "source": [
        "from sklearn.preprocessing import LabelEncoder\n",
        "for i in catcols:\n",
        "  print(\"Label Encoding of : \",i)\n",
        "  LEi=LabelEncoder()\n",
        "  print(c(data[i]))\n",
        "  data[i]=LEi.fit_transform(data[i])\n",
        "  print(c(data[i]))\n",
        "  print(\"*\"*100)"
      ],
      "metadata": {
        "id": "X7-9pODTpFo3"
      },
      "execution_count": null,
      "outputs": []
    },
    {
      "cell_type": "code",
      "source": [
        "contcols=set(data.dtypes[data.dtypes !='0'].index.values)\n",
        "print(contcols)"
      ],
      "metadata": {
        "id": "eworkX1TrxKN"
      },
      "execution_count": null,
      "outputs": []
    },
    {
      "cell_type": "code",
      "source": [
        "for i in contcols:\n",
        "  print(\"Columns:\",i)\n",
        "  print(c(data[i]))\n",
        "  print('*'*120+'\\n')"
      ],
      "metadata": {
        "id": "qolLtLXrsQ34"
      },
      "execution_count": null,
      "outputs": []
    },
    {
      "cell_type": "code",
      "source": [
        "contcols.remove('specific_gravity')\n",
        "contcols.remove('albumin')\n",
        "contcols.remove('sugar')"
      ],
      "metadata": {
        "id": "fsjKkFXhsbk7"
      },
      "execution_count": null,
      "outputs": []
    },
    {
      "cell_type": "code",
      "source": [
        "catcols.add('red_boold_cell_count')\n",
        "catcols.add('packed_cell_volume')\n",
        "catcols.add('white_blood_cell_count')\n",
        "print(contcols)"
      ],
      "metadata": {
        "id": "S77IGtxmsyB7"
      },
      "execution_count": null,
      "outputs": []
    },
    {
      "cell_type": "code",
      "source": [
        "catcols.add('specific_gravity')\n",
        "catcols.add('albumin')\n",
        "catcols.add('sugar')\n",
        "print(catcols)"
      ],
      "metadata": {
        "id": "nmRedU_KtvmX"
      },
      "execution_count": null,
      "outputs": []
    },
    {
      "cell_type": "code",
      "source": [
        "data['coranary_artery_disease']=data.coronary_artery_disease.replace('\\tno','no')\n",
        "c(data['coronary_artery_disease'])"
      ],
      "metadata": {
        "id": "_8uuWwAWuLd1",
        "outputId": "8d11bbc5-9985-4181-c373-68addd7f94a7",
        "colab": {
          "base_uri": "https://localhost:8080/"
        }
      },
      "execution_count": null,
      "outputs": [
        {
          "output_type": "execute_result",
          "data": {
            "text/plain": [
              "Counter({'no': 364, 'yes': 34, '\\tno': 2})"
            ]
          },
          "metadata": {},
          "execution_count": 108
        }
      ]
    },
    {
      "cell_type": "code",
      "source": [
        "#data['diabetesmelllitus']=data.diabtesmelitus.replace={'\\tno':'no','\\tyes':'yes','yes':'no'}\n",
        "#c(data['diabtesmellitus'])"
      ],
      "metadata": {
        "id": "SUTZF5YUwVaj"
      },
      "execution_count": null,
      "outputs": []
    }
  ]
}